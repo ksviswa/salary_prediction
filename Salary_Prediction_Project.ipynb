{
 "cells": [
  {
   "cell_type": "markdown",
   "metadata": {},
   "source": [
    "# Salary Predictions Based on Job Descriptions"
   ]
  },
  {
   "cell_type": "markdown",
   "metadata": {},
   "source": [
    "# Part 1 - DEFINE"
   ]
  },
  {
   "cell_type": "markdown",
   "metadata": {},
   "source": [
    "### ---- 1 Define the problem ----"
   ]
  },
  {
   "cell_type": "markdown",
   "metadata": {},
   "source": [
    "Predict Salary based on the job descriptions. \n",
    "\n",
    "Job descriptions could have various attributes for the same : \n",
    "\n",
    "    1.) Job Type : Role /  Position for the Job ( Ex : Executive / Management / Fresher / Mid Level Roles etc.) \n",
    "    2.) Degree of Education required for the job ( Ex :  Masters / PHD / Bachelors etc. )\n",
    "    3.) Field of Study / Major ( Ex : Math /  Computer Science / Biology etc. )\n",
    "    4.) Industry ( Ex : Textile /  Automobile / Technology / Health etc. )\n",
    "    5.) Years of Experience\n",
    "    6.) Miles from Metropolis / How far from the main city  "
   ]
  },
  {
   "cell_type": "code",
   "execution_count": 24,
   "metadata": {},
   "outputs": [],
   "source": [
    "#import your libraries\n",
    "import pandas as pd\n",
    "import sklearn as sk\n",
    "import numpy as np\n",
    "import matplotlib.pyplot as plt\n",
    "#etc\n",
    "\n",
    "#your info here\n",
    "__author__ = \"Viswanathan K S\"\n",
    "__email__ = \"viswasiva2003@gmail.com\""
   ]
  },
  {
   "cell_type": "markdown",
   "metadata": {},
   "source": [
    "## Part 2 - DISCOVER"
   ]
  },
  {
   "cell_type": "code",
   "execution_count": 25,
   "metadata": {},
   "outputs": [
    {
     "name": "stdout",
     "output_type": "stream",
     "text": [
      "/home/ksviswa/DSDJ_Portfolio/salary_prediction\n"
     ]
    }
   ],
   "source": [
    "# Find the Current Directory\n",
    "import os\n",
    "print(os.getcwd())"
   ]
  },
  {
   "cell_type": "markdown",
   "metadata": {},
   "source": [
    "### ---- 2 Load the data ----"
   ]
  },
  {
   "cell_type": "code",
   "execution_count": 26,
   "metadata": {},
   "outputs": [
    {
     "name": "stdout",
     "output_type": "stream",
     "text": [
      "              jobId companyId         jobType       degree      major  \\\n",
      "0  JOB1362684407687    COMP37             CFO      MASTERS       MATH   \n",
      "1  JOB1362684407688    COMP19             CEO  HIGH_SCHOOL       NONE   \n",
      "2  JOB1362684407689    COMP52  VICE_PRESIDENT     DOCTORAL    PHYSICS   \n",
      "3  JOB1362684407690    COMP38         MANAGER     DOCTORAL  CHEMISTRY   \n",
      "4  JOB1362684407691     COMP7  VICE_PRESIDENT    BACHELORS    PHYSICS   \n",
      "\n",
      "  industry  yearsExperience  milesFromMetropolis  \n",
      "0   HEALTH               10                   83  \n",
      "1      WEB                3                   73  \n",
      "2   HEALTH               10                   38  \n",
      "3     AUTO                8                   17  \n",
      "4  FINANCE                8                   16  \n"
     ]
    }
   ],
   "source": [
    "#load the data into a Pandas dataframe\n",
    "file_path = \"/home/ksviswa/DSDJ_Portfolio/salary_prediction/\"\n",
    "\n",
    "train_features_data = pd.read_csv(file_path + \"data/train_features.csv\")\n",
    "print(train_features_data.head())"
   ]
  },
  {
   "cell_type": "code",
   "execution_count": 27,
   "metadata": {},
   "outputs": [
    {
     "name": "stdout",
     "output_type": "stream",
     "text": [
      "              jobId  salary\n",
      "0  JOB1362684407687     130\n",
      "1  JOB1362684407688     101\n",
      "2  JOB1362684407689     137\n",
      "3  JOB1362684407690     142\n",
      "4  JOB1362684407691     163\n"
     ]
    }
   ],
   "source": [
    "train_salaries_data = pd.read_csv(file_path + \"data/train_salaries.csv\")\n",
    "print(train_salaries_data.head())"
   ]
  },
  {
   "cell_type": "code",
   "execution_count": 28,
   "metadata": {},
   "outputs": [
    {
     "name": "stdout",
     "output_type": "stream",
     "text": [
      "              jobId companyId  jobType       degree    major industry  \\\n",
      "0  JOB1362685407687    COMP33  MANAGER  HIGH_SCHOOL     NONE   HEALTH   \n",
      "1  JOB1362685407688    COMP13   JUNIOR         NONE     NONE     AUTO   \n",
      "2  JOB1362685407689    COMP10      CTO      MASTERS  BIOLOGY   HEALTH   \n",
      "3  JOB1362685407690    COMP21  MANAGER  HIGH_SCHOOL     NONE      OIL   \n",
      "4  JOB1362685407691    COMP36   JUNIOR     DOCTORAL  BIOLOGY      OIL   \n",
      "\n",
      "   yearsExperience  milesFromMetropolis  \n",
      "0               22                   73  \n",
      "1               20                   47  \n",
      "2               17                    9  \n",
      "3               14                   96  \n",
      "4               10                   44  \n"
     ]
    }
   ],
   "source": [
    "test_features_data = pd.read_csv(file_path + \"data/test_features.csv\")\n",
    "print(test_features_data.head())"
   ]
  },
  {
   "cell_type": "code",
   "execution_count": 37,
   "metadata": {},
   "outputs": [
    {
     "name": "stdout",
     "output_type": "stream",
     "text": [
      "Train Features Data has 1000000 rows and 8 columns\n",
      "Train Salaries Data has 1000000 rows and 2 columns\n",
      "\n",
      "\n",
      "              jobId companyId         jobType       degree      major  \\\n",
      "0  JOB1362684407687    COMP37             CFO      MASTERS       MATH   \n",
      "1  JOB1362684407688    COMP19             CEO  HIGH_SCHOOL       NONE   \n",
      "2  JOB1362684407689    COMP52  VICE_PRESIDENT     DOCTORAL    PHYSICS   \n",
      "3  JOB1362684407690    COMP38         MANAGER     DOCTORAL  CHEMISTRY   \n",
      "4  JOB1362684407691     COMP7  VICE_PRESIDENT    BACHELORS    PHYSICS   \n",
      "\n",
      "  industry  yearsExperience  milesFromMetropolis  salary  \n",
      "0   HEALTH               10                   83     130  \n",
      "1      WEB                3                   73     101  \n",
      "2   HEALTH               10                   38     137  \n",
      "3     AUTO                8                   17     142  \n",
      "4  FINANCE                8                   16     163  \n",
      "\n",
      "\n",
      "(1000000, 9)\n"
     ]
    }
   ],
   "source": [
    "print(\"Train Features Data has \" + str(train_features_data.shape[0]) + \" rows and \" + str(train_features_data.shape[1]) + \" columns\" )\n",
    "print(\"Train Salaries Data has \" + str(train_salaries_data.shape[0]) + \" rows and \" + str(train_salaries_data.shape[1]) + \" columns\" )\n",
    "\n",
    "#Looks like both the train data has equal number of records , we can join them.\n",
    "\n",
    "train_data = pd.merge(train_features_data , train_salaries_data , on = 'jobId')\n",
    "\n",
    "print(\"\\n\")\n",
    "print(train_data.head())\n",
    "print(\"\\n\")\n",
    "print(train_data.shape)"
   ]
  },
  {
   "cell_type": "markdown",
   "metadata": {},
   "source": [
    "### ---- 3 Clean the data ----"
   ]
  },
  {
   "cell_type": "code",
   "execution_count": 53,
   "metadata": {},
   "outputs": [
    {
     "name": "stdout",
     "output_type": "stream",
     "text": [
      "0\n",
      "(999995, 10)\n",
      "0\n",
      "Missing Values : \n",
      "\n",
      "\n",
      "jobId                  0\n",
      "companyId              0\n",
      "jobType                0\n",
      "degree                 0\n",
      "major                  0\n",
      "industry               0\n",
      "yearsExperience        0\n",
      "milesFromMetropolis    0\n",
      "salary                 0\n",
      "is_duplicated          0\n",
      "dtype: int64\n"
     ]
    }
   ],
   "source": [
    "#look for duplicate data, invalid data (e.g. salaries <=0), or corrupt data and remove it\n",
    "\n",
    "# Check for any salary less than 0 \n",
    "train_data_salary_less_than_0 = train_data[train_data['salary'] <= 0]\n",
    "\n",
    "print(len(train_data_salary_less_than_0))\n",
    "\n",
    "# There are 5 records where salary is 0 , this could be corrupt data , we can drop them as they are very less compared \n",
    "# to the entire training set of 1 million records.\n",
    "\n",
    "train_data = train_data.drop(train_data_salary_less_than_0.index.tolist())\n",
    "print(train_data.shape)\n",
    "      \n",
    "# Check for duplicates \n",
    "train_data['is_duplicated'] = train_data.duplicated()\n",
    "print(train_data['is_duplicated'].sum())\n",
    "\n",
    "# The training data has no duplicates , hnece we need not drop any\n",
    "# If duplicates , we could use df.drop_duplicates() to remove duplicates.\n",
    "\n",
    "# Check for any other corrupt data / missing data\n",
    "print(\"Missing Values : \")\n",
    "print(\"\\n\")\n",
    "print(train_data.isnull().sum())"
   ]
  },
  {
   "cell_type": "markdown",
   "metadata": {},
   "source": [
    "### ---- 4 Explore the data (EDA) ----"
   ]
  },
  {
   "cell_type": "code",
   "execution_count": 54,
   "metadata": {},
   "outputs": [
    {
     "name": "stdout",
     "output_type": "stream",
     "text": [
      "\n",
      " Summary :  \n",
      "\n",
      "                   jobId companyId jobType       degree   major industry  \\\n",
      "count             999995    999995  999995       999995  999995   999995   \n",
      "unique            999995        63       8            5       9        7   \n",
      "top     JOB1362684953073    COMP39  SENIOR  HIGH_SCHOOL    NONE      WEB   \n",
      "freq                   1     16193  125886       236975  532353   143205   \n",
      "mean                 NaN       NaN     NaN          NaN     NaN      NaN   \n",
      "std                  NaN       NaN     NaN          NaN     NaN      NaN   \n",
      "min                  NaN       NaN     NaN          NaN     NaN      NaN   \n",
      "25%                  NaN       NaN     NaN          NaN     NaN      NaN   \n",
      "50%                  NaN       NaN     NaN          NaN     NaN      NaN   \n",
      "75%                  NaN       NaN     NaN          NaN     NaN      NaN   \n",
      "max                  NaN       NaN     NaN          NaN     NaN      NaN   \n",
      "\n",
      "        yearsExperience  milesFromMetropolis         salary is_duplicated  \n",
      "count     999995.000000        999995.000000  999995.000000        999995  \n",
      "unique              NaN                  NaN            NaN             1  \n",
      "top                 NaN                  NaN            NaN         False  \n",
      "freq                NaN                  NaN            NaN        999995  \n",
      "mean          11.992407            49.529381     116.062398           NaN  \n",
      "std            7.212390            28.877721      38.717163           NaN  \n",
      "min            0.000000             0.000000      17.000000           NaN  \n",
      "25%            6.000000            25.000000      88.000000           NaN  \n",
      "50%           12.000000            50.000000     114.000000           NaN  \n",
      "75%           18.000000            75.000000     141.000000           NaN  \n",
      "max           24.000000            99.000000     301.000000           NaN  \n",
      "\n",
      "\n",
      "                     yearsExperience  milesFromMetropolis    salary  \\\n",
      "yearsExperience             1.000000             0.000672  0.375013   \n",
      "milesFromMetropolis         0.000672             1.000000 -0.297686   \n",
      "salary                      0.375013            -0.297686  1.000000   \n",
      "is_duplicated                    NaN                  NaN       NaN   \n",
      "\n",
      "                     is_duplicated  \n",
      "yearsExperience                NaN  \n",
      "milesFromMetropolis            NaN  \n",
      "salary                         NaN  \n",
      "is_duplicated                  NaN  \n"
     ]
    }
   ],
   "source": [
    "#summarize each feature variable\n",
    "#summarize the target variable\n",
    "\n",
    "# we can quickly check the summary for all the columns using the describe method\n",
    "\n",
    "print('\\n Summary :  \\n')\n",
    "print(train_data.describe(include='all'))\n",
    "\n",
    "#look for correlation between each feature and the target\n",
    "\n",
    "\n",
    "\n",
    "#look for correlation between features\n",
    "print(\"\\n\")\n",
    "print(train_data.corr())"
   ]
  },
  {
   "cell_type": "markdown",
   "metadata": {},
   "source": [
    "### ---- 5 Establish a baseline ----"
   ]
  },
  {
   "cell_type": "code",
   "execution_count": 5,
   "metadata": {},
   "outputs": [],
   "source": [
    "#select a reasonable metric (MSE in this case)\n",
    "#create an extremely simple model and measure its efficacy\n",
    "#e.g. use \"average salary\" for each industry as your model and then measure MSE\n",
    "#during 5-fold cross-validation"
   ]
  },
  {
   "cell_type": "markdown",
   "metadata": {},
   "source": [
    "### ---- 6 Hypothesize solution ----"
   ]
  },
  {
   "cell_type": "code",
   "execution_count": null,
   "metadata": {},
   "outputs": [],
   "source": [
    "#brainstorm 3 models that you think may improve results over the baseline model based\n",
    "#on your "
   ]
  },
  {
   "cell_type": "markdown",
   "metadata": {},
   "source": [
    "Brainstorm 3 models that you think may improve results over the baseline model based on your EDA and explain why they're reasonable solutions here.\n",
    "\n",
    "Also write down any new features that you think you should try adding to the model based on your EDA, e.g. interaction variables, summary statistics for each group, etc"
   ]
  },
  {
   "cell_type": "markdown",
   "metadata": {},
   "source": [
    "## Part 3 - DEVELOP"
   ]
  },
  {
   "cell_type": "markdown",
   "metadata": {},
   "source": [
    "You will cycle through creating features, tuning models, and training/validing models (steps 7-9) until you've reached your efficacy goal\n",
    "\n",
    "#### Your metric will be MSE and your goal is:\n",
    " - <360 for entry-level data science roles\n",
    " - <320 for senior data science roles"
   ]
  },
  {
   "cell_type": "markdown",
   "metadata": {},
   "source": [
    "### ---- 7 Engineer features  ----"
   ]
  },
  {
   "cell_type": "code",
   "execution_count": null,
   "metadata": {},
   "outputs": [],
   "source": [
    "#make sure that data is ready for modeling\n",
    "#create any new features needed to potentially enhance model"
   ]
  },
  {
   "cell_type": "markdown",
   "metadata": {},
   "source": [
    "### ---- 8 Create models ----"
   ]
  },
  {
   "cell_type": "code",
   "execution_count": 15,
   "metadata": {},
   "outputs": [],
   "source": [
    "#create and tune the models that you brainstormed during part 2"
   ]
  },
  {
   "cell_type": "markdown",
   "metadata": {},
   "source": [
    "### ---- 9 Test models ----"
   ]
  },
  {
   "cell_type": "code",
   "execution_count": 1,
   "metadata": {},
   "outputs": [],
   "source": [
    "#do 5-fold cross validation on models and measure MSE"
   ]
  },
  {
   "cell_type": "markdown",
   "metadata": {},
   "source": [
    "### ---- 10 Select best model  ----"
   ]
  },
  {
   "cell_type": "code",
   "execution_count": null,
   "metadata": {},
   "outputs": [],
   "source": [
    "#select the model with the lowest error as your \"prodcuction\" model"
   ]
  },
  {
   "cell_type": "markdown",
   "metadata": {},
   "source": [
    "## Part 4 - DEPLOY"
   ]
  },
  {
   "cell_type": "markdown",
   "metadata": {},
   "source": [
    "### ---- 11 Automate pipeline ----"
   ]
  },
  {
   "cell_type": "code",
   "execution_count": null,
   "metadata": {},
   "outputs": [],
   "source": [
    "#write script that trains model on entire training set, saves model to disk,\n",
    "#and scores the \"test\" dataset"
   ]
  },
  {
   "cell_type": "markdown",
   "metadata": {},
   "source": [
    "### ---- 12 Deploy solution ----"
   ]
  },
  {
   "cell_type": "code",
   "execution_count": 16,
   "metadata": {},
   "outputs": [],
   "source": [
    "#save your prediction to a csv file or optionally save them as a table in a SQL database\n",
    "#additionally, you want to save a visualization and summary of your prediction and feature importances\n",
    "#these visualizations and summaries will be extremely useful to business stakeholders"
   ]
  },
  {
   "cell_type": "markdown",
   "metadata": {},
   "source": [
    "### ---- 13 Measure efficacy ----"
   ]
  },
  {
   "cell_type": "markdown",
   "metadata": {},
   "source": [
    "We'll skip this step since we don't have the outcomes for the test data"
   ]
  },
  {
   "cell_type": "code",
   "execution_count": null,
   "metadata": {},
   "outputs": [],
   "source": []
  },
  {
   "cell_type": "code",
   "execution_count": null,
   "metadata": {},
   "outputs": [],
   "source": []
  },
  {
   "cell_type": "code",
   "execution_count": null,
   "metadata": {},
   "outputs": [],
   "source": []
  },
  {
   "cell_type": "code",
   "execution_count": null,
   "metadata": {},
   "outputs": [],
   "source": []
  }
 ],
 "metadata": {
  "kernelspec": {
   "display_name": "Python 3",
   "language": "python",
   "name": "python3"
  },
  "language_info": {
   "codemirror_mode": {
    "name": "ipython",
    "version": 3
   },
   "file_extension": ".py",
   "mimetype": "text/x-python",
   "name": "python",
   "nbconvert_exporter": "python",
   "pygments_lexer": "ipython3",
   "version": "3.7.1"
  }
 },
 "nbformat": 4,
 "nbformat_minor": 2
}
