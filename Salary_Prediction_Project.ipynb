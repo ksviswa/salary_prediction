{
 "cells": [
  {
   "cell_type": "markdown",
   "metadata": {},
   "source": [
    "# Salary Predictions Based on Job Descriptions"
   ]
  },
  {
   "cell_type": "markdown",
   "metadata": {},
   "source": [
    "# Part 1 - DEFINE"
   ]
  },
  {
   "cell_type": "markdown",
   "metadata": {},
   "source": [
    "### ---- 1 Define the problem ----"
   ]
  },
  {
   "cell_type": "markdown",
   "metadata": {},
   "source": [
    "Predict Salary based on the job descriptions. \n",
    "\n",
    "Job descriptions could have various attributes for the same : \n",
    "\n",
    "    1.) Job Type : Role /  Position for the Job ( Ex : Executive / Management / Fresher / Mid Level Roles etc.) \n",
    "    2.) Degree of Education required for the job ( Ex :  Masters / PHD / Bachelors etc. )\n",
    "    3.) Field of Study / Major ( Ex : Math /  Computer Science / Biology etc. )\n",
    "    4.) Industry ( Ex : Textile /  Automobile / Technology / Health etc. )\n",
    "    5.) Years of Experience\n",
    "    6.) Miles from Metropolis / How far from the main city  "
   ]
  },
  {
   "cell_type": "code",
   "execution_count": 1,
   "metadata": {},
   "outputs": [],
   "source": [
    "#import your libraries\n",
    "import pandas as pd\n",
    "import sklearn as sk\n",
    "import numpy as np\n",
    "import matplotlib.pyplot as plt\n",
    "#etc\n",
    "\n",
    "#your info here\n",
    "__author__ = \"Viswanathan K S\"\n",
    "__email__ = \"viswasiva2003@gmail.com\""
   ]
  },
  {
   "cell_type": "markdown",
   "metadata": {},
   "source": [
    "## Part 2 - DISCOVER"
   ]
  },
  {
   "cell_type": "code",
   "execution_count": 2,
   "metadata": {},
   "outputs": [
    {
     "name": "stdout",
     "output_type": "stream",
     "text": [
      "/home/ksviswa/DSDJ_Portfolio/salary_prediction\n"
     ]
    }
   ],
   "source": [
    "# Find the Current Directory\n",
    "import os\n",
    "print(os.getcwd())"
   ]
  },
  {
   "cell_type": "markdown",
   "metadata": {},
   "source": [
    "### ---- 2 Load the data ----"
   ]
  },
  {
   "cell_type": "code",
   "execution_count": 3,
   "metadata": {},
   "outputs": [
    {
     "name": "stdout",
     "output_type": "stream",
     "text": [
      "              jobId companyId         jobType       degree      major  \\\n",
      "0  JOB1362684407687    COMP37             CFO      MASTERS       MATH   \n",
      "1  JOB1362684407688    COMP19             CEO  HIGH_SCHOOL       NONE   \n",
      "2  JOB1362684407689    COMP52  VICE_PRESIDENT     DOCTORAL    PHYSICS   \n",
      "3  JOB1362684407690    COMP38         MANAGER     DOCTORAL  CHEMISTRY   \n",
      "4  JOB1362684407691     COMP7  VICE_PRESIDENT    BACHELORS    PHYSICS   \n",
      "\n",
      "  industry  yearsExperience  milesFromMetropolis  \n",
      "0   HEALTH               10                   83  \n",
      "1      WEB                3                   73  \n",
      "2   HEALTH               10                   38  \n",
      "3     AUTO                8                   17  \n",
      "4  FINANCE                8                   16  \n"
     ]
    }
   ],
   "source": [
    "#load the data into a Pandas dataframe\n",
    "file_path = \"/home/ksviswa/DSDJ_Portfolio/salary_prediction/\"\n",
    "\n",
    "train_features_data = pd.read_csv(file_path + \"data/train_features.csv\")\n",
    "print(train_features_data.head())"
   ]
  },
  {
   "cell_type": "code",
   "execution_count": 4,
   "metadata": {},
   "outputs": [
    {
     "name": "stdout",
     "output_type": "stream",
     "text": [
      "              jobId  salary\n",
      "0  JOB1362684407687     130\n",
      "1  JOB1362684407688     101\n",
      "2  JOB1362684407689     137\n",
      "3  JOB1362684407690     142\n",
      "4  JOB1362684407691     163\n"
     ]
    }
   ],
   "source": [
    "train_salaries_data = pd.read_csv(file_path + \"data/train_salaries.csv\")\n",
    "print(train_salaries_data.head())"
   ]
  },
  {
   "cell_type": "code",
   "execution_count": 5,
   "metadata": {},
   "outputs": [
    {
     "name": "stdout",
     "output_type": "stream",
     "text": [
      "              jobId companyId  jobType       degree    major industry  \\\n",
      "0  JOB1362685407687    COMP33  MANAGER  HIGH_SCHOOL     NONE   HEALTH   \n",
      "1  JOB1362685407688    COMP13   JUNIOR         NONE     NONE     AUTO   \n",
      "2  JOB1362685407689    COMP10      CTO      MASTERS  BIOLOGY   HEALTH   \n",
      "3  JOB1362685407690    COMP21  MANAGER  HIGH_SCHOOL     NONE      OIL   \n",
      "4  JOB1362685407691    COMP36   JUNIOR     DOCTORAL  BIOLOGY      OIL   \n",
      "\n",
      "   yearsExperience  milesFromMetropolis  \n",
      "0               22                   73  \n",
      "1               20                   47  \n",
      "2               17                    9  \n",
      "3               14                   96  \n",
      "4               10                   44  \n"
     ]
    }
   ],
   "source": [
    "test_features_data = pd.read_csv(file_path + \"data/test_features.csv\")\n",
    "print(test_features_data.head())"
   ]
  },
  {
   "cell_type": "code",
   "execution_count": 6,
   "metadata": {},
   "outputs": [
    {
     "name": "stdout",
     "output_type": "stream",
     "text": [
      "Train Features Data has 1000000 rows and 8 columns\n",
      "Train Salaries Data has 1000000 rows and 2 columns\n",
      "\n",
      "\n",
      "              jobId companyId         jobType       degree      major  \\\n",
      "0  JOB1362684407687    COMP37             CFO      MASTERS       MATH   \n",
      "1  JOB1362684407688    COMP19             CEO  HIGH_SCHOOL       NONE   \n",
      "2  JOB1362684407689    COMP52  VICE_PRESIDENT     DOCTORAL    PHYSICS   \n",
      "3  JOB1362684407690    COMP38         MANAGER     DOCTORAL  CHEMISTRY   \n",
      "4  JOB1362684407691     COMP7  VICE_PRESIDENT    BACHELORS    PHYSICS   \n",
      "\n",
      "  industry  yearsExperience  milesFromMetropolis  salary  \n",
      "0   HEALTH               10                   83     130  \n",
      "1      WEB                3                   73     101  \n",
      "2   HEALTH               10                   38     137  \n",
      "3     AUTO                8                   17     142  \n",
      "4  FINANCE                8                   16     163  \n",
      "\n",
      "\n",
      "(1000000, 9)\n"
     ]
    }
   ],
   "source": [
    "print(\"Train Features Data has \" + str(train_features_data.shape[0]) + \" rows and \" + str(train_features_data.shape[1]) + \" columns\" )\n",
    "print(\"Train Salaries Data has \" + str(train_salaries_data.shape[0]) + \" rows and \" + str(train_salaries_data.shape[1]) + \" columns\" )\n",
    "\n",
    "#Looks like both the train data has equal number of records , we can join them.\n",
    "\n",
    "train_data = pd.merge(train_features_data , train_salaries_data , on = 'jobId')\n",
    "\n",
    "print(\"\\n\")\n",
    "print(train_data.head())\n",
    "print(\"\\n\")\n",
    "print(train_data.shape)"
   ]
  },
  {
   "cell_type": "markdown",
   "metadata": {},
   "source": [
    "### ---- 3 Clean the data ----"
   ]
  },
  {
   "cell_type": "code",
   "execution_count": 7,
   "metadata": {},
   "outputs": [
    {
     "name": "stdout",
     "output_type": "stream",
     "text": [
      "5\n",
      "(999995, 9)\n",
      "0\n",
      "Missing Values : \n",
      "\n",
      "\n",
      "jobId                  0\n",
      "companyId              0\n",
      "jobType                0\n",
      "degree                 0\n",
      "major                  0\n",
      "industry               0\n",
      "yearsExperience        0\n",
      "milesFromMetropolis    0\n",
      "salary                 0\n",
      "is_duplicated          0\n",
      "dtype: int64\n"
     ]
    }
   ],
   "source": [
    "#look for duplicate data, invalid data (e.g. salaries <=0), or corrupt data and remove it\n",
    "\n",
    "# Check for any salary less than 0 \n",
    "train_data_salary_less_than_0 = train_data[train_data['salary'] <= 0]\n",
    "\n",
    "print(len(train_data_salary_less_than_0))\n",
    "\n",
    "# There are 5 records where salary is 0 , this could be corrupt data , we can drop them as they are very less compared \n",
    "# to the entire training set of 1 million records.\n",
    "\n",
    "train_data = train_data.drop(train_data_salary_less_than_0.index.tolist())\n",
    "print(train_data.shape)\n",
    "      \n",
    "# Check for duplicates \n",
    "train_data['is_duplicated'] = train_data.duplicated()\n",
    "print(train_data['is_duplicated'].sum())\n",
    "\n",
    "# The training data has no duplicates , hnece we need not drop any\n",
    "# If duplicates , we could use df.drop_duplicates() to remove duplicates.\n",
    "\n",
    "# Check for any other corrupt data / missing data\n",
    "print(\"Missing Values : \")\n",
    "print(\"\\n\")\n",
    "print(train_data.isnull().sum())"
   ]
  },
  {
   "cell_type": "code",
   "execution_count": 8,
   "metadata": {},
   "outputs": [],
   "source": [
    "# Creating another copy, so that we can use one hot encoding in the future.\n",
    "# Currently for EDA and  Visualization using category code values \n",
    "# Use One hot encoding for the model building as it will generate more features which could be helpful.\n",
    "train_df = train_data.copy() "
   ]
  },
  {
   "cell_type": "markdown",
   "metadata": {},
   "source": [
    "### ---- 4 Explore the data (EDA) ----"
   ]
  },
  {
   "cell_type": "code",
   "execution_count": 9,
   "metadata": {},
   "outputs": [
    {
     "name": "stdout",
     "output_type": "stream",
     "text": [
      "\n",
      " Summary :  \n",
      "\n",
      "                   jobId companyId jobType       degree   major industry  \\\n",
      "count             999995    999995  999995       999995  999995   999995   \n",
      "unique            999995        63       8            5       9        7   \n",
      "top     JOB1362684929093    COMP39  SENIOR  HIGH_SCHOOL    NONE      WEB   \n",
      "freq                   1     16193  125886       236975  532353   143205   \n",
      "mean                 NaN       NaN     NaN          NaN     NaN      NaN   \n",
      "std                  NaN       NaN     NaN          NaN     NaN      NaN   \n",
      "min                  NaN       NaN     NaN          NaN     NaN      NaN   \n",
      "25%                  NaN       NaN     NaN          NaN     NaN      NaN   \n",
      "50%                  NaN       NaN     NaN          NaN     NaN      NaN   \n",
      "75%                  NaN       NaN     NaN          NaN     NaN      NaN   \n",
      "max                  NaN       NaN     NaN          NaN     NaN      NaN   \n",
      "\n",
      "        yearsExperience  milesFromMetropolis         salary is_duplicated  \n",
      "count     999995.000000        999995.000000  999995.000000        999995  \n",
      "unique              NaN                  NaN            NaN             1  \n",
      "top                 NaN                  NaN            NaN         False  \n",
      "freq                NaN                  NaN            NaN        999995  \n",
      "mean          11.992407            49.529381     116.062398           NaN  \n",
      "std            7.212390            28.877721      38.717163           NaN  \n",
      "min            0.000000             0.000000      17.000000           NaN  \n",
      "25%            6.000000            25.000000      88.000000           NaN  \n",
      "50%           12.000000            50.000000     114.000000           NaN  \n",
      "75%           18.000000            75.000000     141.000000           NaN  \n",
      "max           24.000000            99.000000     301.000000           NaN  \n",
      "\n",
      "\n",
      "jobId                  object\n",
      "companyId              object\n",
      "jobType                object\n",
      "degree                 object\n",
      "major                  object\n",
      "industry               object\n",
      "yearsExperience         int64\n",
      "milesFromMetropolis     int64\n",
      "salary                  int64\n",
      "is_duplicated            bool\n",
      "dtype: object\n",
      "\n",
      " Correlation : All Features vs Target \n",
      "\n",
      "jobType               -0.228672\n",
      "degree                -0.231794\n",
      "major                 -0.262435\n",
      "industry               0.086500\n",
      "yearsExperience        0.375013\n",
      "milesFromMetropolis   -0.297686\n",
      "salary                 1.000000\n",
      "is_duplicated               NaN\n",
      "Name: salary, dtype: float64\n",
      "\n",
      " Correlation : All Features vs Features \n",
      "\n",
      "                      jobType    degree     major  industry  yearsExperience  \\\n",
      "jobType              1.000000 -0.020084 -0.020773  0.000066        -0.000185   \n",
      "degree              -0.020084  1.000000  0.370090  0.001548        -0.000140   \n",
      "major               -0.020773  0.370090  1.000000  0.001077         0.000013   \n",
      "industry             0.000066  0.001548  0.001077  1.000000         0.000264   \n",
      "yearsExperience     -0.000185 -0.000140  0.000013  0.000264         1.000000   \n",
      "milesFromMetropolis -0.000362 -0.001360 -0.001369 -0.000820         0.000672   \n",
      "salary              -0.228672 -0.231794 -0.262435  0.086500         0.375013   \n",
      "is_duplicated             NaN       NaN       NaN       NaN              NaN   \n",
      "\n",
      "                     milesFromMetropolis    salary  is_duplicated  \n",
      "jobType                        -0.000362 -0.228672            NaN  \n",
      "degree                         -0.001360 -0.231794            NaN  \n",
      "major                          -0.001369 -0.262435            NaN  \n",
      "industry                       -0.000820  0.086500            NaN  \n",
      "yearsExperience                 0.000672  0.375013            NaN  \n",
      "milesFromMetropolis             1.000000 -0.297686            NaN  \n",
      "salary                         -0.297686  1.000000            NaN  \n",
      "is_duplicated                        NaN       NaN            NaN  \n"
     ]
    }
   ],
   "source": [
    "#summarize each feature variable\n",
    "#summarize the target variable\n",
    "\n",
    "# we can quickly check the summary for all the columns using the describe method\n",
    "\n",
    "print('\\n Summary :  \\n')\n",
    "print(train_data.describe(include='all'))\n",
    "\n",
    "# Identify the Types of Each column\n",
    "print(\"\\n\")\n",
    "print(train_data.dtypes)\n",
    "\n",
    "#look for correlation between each feature and the target\n",
    "\n",
    "# for correlation we need to convert the category columns to  numeric\n",
    "# In this data we have all these columns as object types - Job Id , Company Id , Job Type , Degree , Major , Industry\n",
    "# Job ID and Company ID do not serve much purpose as they could be unique values for each job or each company\n",
    "\n",
    "#convert categorical varibale to numeric values.\n",
    "train_data['jobType'] = train_data['jobType'].astype('category').cat.codes #Job Type has 8 unique Values \n",
    "train_data['degree'] = train_data['degree'].astype('category').cat.codes # Degree has 5 Unique Values\n",
    "train_data['major'] = train_data['major'].astype('category').cat.codes # Major has 9 Unique Values\n",
    "train_data['industry'] = train_data['industry'].astype('category').cat.codes # Industry has 7 Unique Values\n",
    "\n",
    "#Correlation between each feature and target \n",
    "print(\"\\n Correlation : All Features vs Target \\n\")\n",
    "print(train_data[train_data.columns[2:]].corr()['salary'][:])\n",
    "\n",
    "#look for correlation between features \n",
    "print(\"\\n Correlation : All Features vs Features \\n\")\n",
    "print(train_data.corr()) # This will create the correlation matrix with all the features \n",
    "\n",
    "\n"
   ]
  },
  {
   "cell_type": "code",
   "execution_count": 10,
   "metadata": {},
   "outputs": [
    {
     "name": "stdout",
     "output_type": "stream",
     "text": [
      "   jobType  degree  major  industry  yearsExperience  milesFromMetropolis  \\\n",
      "0        1       3      6         3               10                   83   \n",
      "1        0       2      7         6                3                   73   \n",
      "2        7       1      8         3               10                   38   \n",
      "3        5       1      2         0                8                   17   \n",
      "4        7       0      8         2                8                   16   \n",
      "\n",
      "   salary  \n",
      "0     130  \n",
      "1     101  \n",
      "2     137  \n",
      "3     142  \n",
      "4     163  \n"
     ]
    }
   ],
   "source": [
    "# Drop Columns \n",
    "# We do not need job id , company id , isduplicated flag as they dont serve any purpose further.\n",
    "\n",
    "train_data = train_data.drop(columns = ['jobId' , 'companyId' , 'is_duplicated'])\n",
    "print(train_data.head())"
   ]
  },
  {
   "cell_type": "code",
   "execution_count": 11,
   "metadata": {},
   "outputs": [
    {
     "data": {
      "image/png": "[encoded data removed]",
      "text/plain": [
       "<Figure size 432x288 with 2 Axes>"
      ]
     },
     "metadata": {},
     "output_type": "display_data"
    }
   ],
   "source": [
    "# Visualize the correlation matrix \n",
    "\n",
    "# Use Seaborn Heatmap \n",
    "import seaborn as sns\n",
    "\n",
    "corr = train_data.corr()\n",
    "\n",
    "# Generate a mask for the upper triangle\n",
    "mask = np.zeros_like(corr)\n",
    "mask[np.triu_indices_from(mask)] = True\n",
    "\n",
    "with sns.axes_style(\"white\"):\n",
    "    ax = sns.heatmap(corr, mask=mask, vmax=1, vmin=-1, square=True)\n"
   ]
  },
  {
   "cell_type": "code",
   "execution_count": 12,
   "metadata": {},
   "outputs": [
    {
     "name": "stdout",
     "output_type": "stream",
     "text": [
      "   yearsExperience  milesFromMetropolis  CEO  CFO  CTO  JANITOR  JUNIOR  \\\n",
      "0               10                   83    0    1    0        0       0   \n",
      "1                3                   73    1    0    0        0       0   \n",
      "2               10                   38    0    0    0        0       0   \n",
      "3                8                   17    0    0    0        0       0   \n",
      "4                8                   16    0    0    0        0       0   \n",
      "\n",
      "   MANAGER  SENIOR  VICE_PRESIDENT   ...    NONE  PHYSICS  AUTO  EDUCATION  \\\n",
      "0        0       0               0   ...       0        0     0          0   \n",
      "1        0       0               0   ...       1        0     0          0   \n",
      "2        0       0               1   ...       0        1     0          0   \n",
      "3        1       0               0   ...       0        0     1          0   \n",
      "4        0       0               1   ...       0        1     0          0   \n",
      "\n",
      "   FINANCE  HEALTH  OIL  SERVICE  WEB  salary  \n",
      "0        0       1    0        0    0     130  \n",
      "1        0       0    0        0    1     101  \n",
      "2        0       1    0        0    0     137  \n",
      "3        0       0    0        0    0     142  \n",
      "4        1       0    0        0    0     163  \n",
      "\n",
      "[5 rows x 32 columns]\n"
     ]
    }
   ],
   "source": [
    "# One Hot Encoding \n",
    "\n",
    "# There are few categorical values in the data and we do not have any orderly relationship within the category codes.\n",
    "# Use One hot encoding so that machine learning model performs better\n",
    "\n",
    "train_jobtype = pd.get_dummies(train_df['jobType'])\n",
    "train_degree = pd.get_dummies(train_df['degree'])\n",
    "train_major = pd.get_dummies(train_df['major'])\n",
    "train_industry = pd.get_dummies(train_df['industry'])\n",
    "\n",
    "\n",
    "train_df = train_df.drop(columns = ['jobId' , 'companyId' , 'jobType' , 'degree' , 'major' , 'industry' , 'is_duplicated'])\n",
    "\n",
    "train_df_final = pd.concat([train_df[['yearsExperience','milesFromMetropolis']] , train_jobtype , train_degree , train_major , train_industry , train_df[['salary']]] , axis=1)\n",
    "print(train_df_final.head())\n"
   ]
  },
  {
   "cell_type": "code",
   "execution_count": 13,
   "metadata": {},
   "outputs": [
    {
     "name": "stdout",
     "output_type": "stream",
     "text": [
      "                     yearsExperience  milesFromMetropolis       CEO       CFO  \\\n",
      "yearsExperience             1.000000             0.000672  0.000307 -0.000103   \n",
      "milesFromMetropolis         0.000672             1.000000 -0.000666  0.000566   \n",
      "CEO                         0.000307            -0.000666  1.000000 -0.142301   \n",
      "CFO                        -0.000103             0.000566 -0.142301  1.000000   \n",
      "CTO                         0.000967             0.000674 -0.142742 -0.142475   \n",
      "JANITOR                    -0.001192            -0.001120 -0.142694 -0.142427   \n",
      "JUNIOR                     -0.000001             0.001713 -0.142447 -0.142180   \n",
      "MANAGER                    -0.000269            -0.000406 -0.142791 -0.142524   \n",
      "SENIOR                      0.000222             0.000567 -0.143290 -0.143022   \n",
      "VICE_PRESIDENT              0.000068            -0.001325 -0.142866 -0.142598   \n",
      "BACHELORS                  -0.000407             0.000963  0.025655  0.025148   \n",
      "DOCTORAL                    0.000695             0.001272  0.025970  0.023008   \n",
      "HIGH_SCHOOL                 0.000240            -0.001352 -0.034503 -0.032499   \n",
      "MASTERS                    -0.000474             0.000394  0.024003  0.025979   \n",
      "NONE                       -0.000074            -0.000999 -0.033141 -0.033808   \n",
      "BIOLOGY                    -0.000041            -0.000042  0.013468  0.014313   \n",
      "BUSINESS                    0.000651             0.000871  0.012753  0.013454   \n",
      "CHEMISTRY                  -0.000597             0.000205  0.014098  0.013372   \n",
      "COMPSCI                    -0.000460             0.001265  0.015541  0.014204   \n",
      "ENGINEERING                -0.000156             0.000417  0.012558  0.013350   \n",
      "LITERATURE                  0.000643             0.001426  0.013435  0.010553   \n",
      "MATH                       -0.000005            -0.000912  0.011797  0.014043   \n",
      "NONE                        0.000110            -0.001626 -0.050958 -0.050205   \n",
      "PHYSICS                    -0.000269             0.000221  0.014718  0.013497   \n",
      "AUTO                       -0.001002             0.000345  0.000623 -0.001416   \n",
      "EDUCATION                   0.000436             0.000807  0.000149 -0.000930   \n",
      "FINANCE                     0.000977             0.000050  0.000747  0.000778   \n",
      "HEALTH                     -0.001106            -0.000400 -0.001616  0.001920   \n",
      "OIL                         0.000801            -0.000550  0.000591 -0.000634   \n",
      "SERVICE                     0.000128             0.000685 -0.000825 -0.000771   \n",
      "WEB                        -0.000233            -0.000935  0.000329  0.001052   \n",
      "salary                      0.375013            -0.297686  0.285246  0.188803   \n",
      "\n",
      "                          CTO   JANITOR    JUNIOR   MANAGER    SENIOR  \\\n",
      "yearsExperience      0.000967 -0.001192 -0.000001 -0.000269  0.000222   \n",
      "milesFromMetropolis  0.000674 -0.001120  0.001713 -0.000406  0.000567   \n",
      "CEO                 -0.142742 -0.142694 -0.142447 -0.142791 -0.143290   \n",
      "CFO                 -0.142475 -0.142427 -0.142180 -0.142524 -0.143022   \n",
      "CTO                  1.000000 -0.142868 -0.142621 -0.142966 -0.143465   \n",
      "JANITOR             -0.142868  1.000000 -0.142572 -0.142917 -0.143417   \n",
      "JUNIOR              -0.142621 -0.142572  1.000000 -0.142670 -0.143168   \n",
      "MANAGER             -0.142966 -0.142917 -0.142670  1.000000 -0.143515   \n",
      "SENIOR              -0.143465 -0.143417 -0.143168 -0.143515  1.000000   \n",
      "VICE_PRESIDENT      -0.143040 -0.142992 -0.142744 -0.143089 -0.143589   \n",
      "BACHELORS            0.024734 -0.174354  0.023933  0.024314  0.025562   \n",
      "DOCTORAL             0.023785 -0.174274  0.025251  0.024048  0.026186   \n",
      "HIGH_SCHOOL         -0.033698  0.233343 -0.031654 -0.033801 -0.035347   \n",
      "MASTERS              0.026805 -0.174242  0.023864  0.025541  0.025028   \n",
      "NONE                -0.033674  0.234325 -0.033681 -0.032298 -0.033323   \n",
      "BIOLOGY              0.011759 -0.094099  0.012119  0.014252  0.014849   \n",
      "BUSINESS             0.013957 -0.094218  0.013443  0.012918  0.013387   \n",
      "CHEMISTRY            0.013793 -0.094523  0.013051  0.011550  0.015053   \n",
      "COMPSCI              0.014668 -0.094102  0.013083  0.012133  0.013249   \n",
      "ENGINEERING          0.011818 -0.094283  0.015015  0.013689  0.014630   \n",
      "LITERATURE           0.014675 -0.094360  0.013610  0.014884  0.014397   \n",
      "MATH                 0.014514 -0.093603  0.013190  0.013315  0.011688   \n",
      "NONE                -0.050948  0.354202 -0.049764 -0.050402 -0.052190   \n",
      "PHYSICS              0.013176 -0.094126  0.012325  0.014457  0.013728   \n",
      "AUTO                -0.000735  0.001887  0.000023  0.001892 -0.001519   \n",
      "EDUCATION            0.000450  0.000196  0.001565 -0.000860  0.000827   \n",
      "FINANCE             -0.000793 -0.000477 -0.000355  0.000713 -0.000714   \n",
      "HEALTH              -0.001581 -0.001101  0.001452 -0.001111 -0.000224   \n",
      "OIL                  0.001938 -0.001272 -0.002537  0.000151  0.001871   \n",
      "SERVICE              0.000922  0.000235 -0.000111  0.000120  0.000497   \n",
      "WEB                 -0.000200  0.000530 -0.000037 -0.000905 -0.000737   \n",
      "salary               0.189608 -0.441676 -0.201987 -0.006778 -0.103650   \n",
      "\n",
      "                     VICE_PRESIDENT    ...         NONE   PHYSICS      AUTO  \\\n",
      "yearsExperience            0.000068    ...     0.000110 -0.000269 -0.001002   \n",
      "milesFromMetropolis       -0.001325    ...    -0.001626  0.000221  0.000345   \n",
      "CEO                       -0.142866    ...    -0.050958  0.014718  0.000623   \n",
      "CFO                       -0.142598    ...    -0.050205  0.013497 -0.001416   \n",
      "CTO                       -0.143040    ...    -0.050948  0.013176 -0.000735   \n",
      "JANITOR                   -0.142992    ...     0.354202 -0.094126  0.001887   \n",
      "JUNIOR                    -0.142744    ...    -0.049764  0.012325  0.000023   \n",
      "MANAGER                   -0.143089    ...    -0.050402  0.014457  0.001892   \n",
      "SENIOR                    -0.143589    ...    -0.052190  0.013728 -0.001519   \n",
      "VICE_PRESIDENT             1.000000    ...    -0.049690  0.012214 -0.000752   \n",
      "BACHELORS                  0.024987    ...    -0.389512  0.101519  0.000950   \n",
      "DOCTORAL                   0.026001    ...    -0.388091  0.102870  0.001228   \n",
      "HIGH_SCHOOL               -0.031806    ...     0.522324 -0.138802 -0.001973   \n",
      "MASTERS                    0.023004    ...    -0.390156  0.105933 -0.000399   \n",
      "NONE                      -0.034375    ...     0.522148 -0.138756  0.000382   \n",
      "BIOLOGY                    0.013323    ...    -0.265665 -0.062016 -0.000875   \n",
      "BUSINESS                   0.014294    ...    -0.266001 -0.062095  0.000126   \n",
      "CHEMISTRY                  0.013590    ...    -0.266862 -0.062296  0.000441   \n",
      "COMPSCI                    0.011218    ...    -0.265672 -0.062018 -0.000307   \n",
      "ENGINEERING                0.013211    ...    -0.266184 -0.062137  0.000833   \n",
      "LITERATURE                 0.012787    ...    -0.266401 -0.062188  0.001539   \n",
      "MATH                       0.015050    ...    -0.264263 -0.061689  0.000832   \n",
      "NONE                      -0.049690    ...     1.000000 -0.265740 -0.001600   \n",
      "PHYSICS                    0.012214    ...    -0.265740  1.000000  0.000813   \n",
      "AUTO                      -0.000752    ...    -0.001600  0.000813  1.000000   \n",
      "EDUCATION                 -0.001398    ...     0.001148 -0.001001 -0.166699   \n",
      "FINANCE                    0.000106    ...    -0.000696 -0.001168 -0.166731   \n",
      "HEALTH                     0.002264    ...    -0.000925  0.000910 -0.166655   \n",
      "OIL                       -0.000119    ...     0.000719 -0.000234 -0.166665   \n",
      "SERVICE                   -0.000072    ...     0.001177  0.000066 -0.166576   \n",
      "WEB                       -0.000028    ...     0.000177  0.000613 -0.166961   \n",
      "salary                     0.090947    ...    -0.371435  0.092056 -0.069904   \n",
      "\n",
      "                     EDUCATION   FINANCE    HEALTH       OIL   SERVICE  \\\n",
      "yearsExperience       0.000436  0.000977 -0.001106  0.000801  0.000128   \n",
      "milesFromMetropolis   0.000807  0.000050 -0.000400 -0.000550  0.000685   \n",
      "CEO                   0.000149  0.000747 -0.001616  0.000591 -0.000825   \n",
      "CFO                  -0.000930  0.000778  0.001920 -0.000634 -0.000771   \n",
      "CTO                   0.000450 -0.000793 -0.001581  0.001938  0.000922   \n",
      "JANITOR               0.000196 -0.000477 -0.001101 -0.001272  0.000235   \n",
      "JUNIOR                0.001565 -0.000355  0.001452 -0.002537 -0.000111   \n",
      "MANAGER              -0.000860  0.000713 -0.001111  0.000151  0.000120   \n",
      "SENIOR                0.000827 -0.000714 -0.000224  0.001871  0.000497   \n",
      "VICE_PRESIDENT       -0.001398  0.000106  0.002264 -0.000119 -0.000072   \n",
      "BACHELORS             0.000592 -0.000056 -0.000383 -0.001004  0.000236   \n",
      "DOCTORAL              0.000112  0.000230  0.000534  0.001131 -0.002366   \n",
      "HIGH_SCHOOL           0.001434 -0.000584  0.000252  0.000846 -0.001130   \n",
      "MASTERS              -0.001682  0.000316  0.000725 -0.000407  0.000555   \n",
      "NONE                 -0.000560  0.000145 -0.001036 -0.000596  0.002538   \n",
      "BIOLOGY               0.000528 -0.000992  0.001842 -0.000473  0.001059   \n",
      "BUSINESS              0.001710  0.000289 -0.000119 -0.000605  0.000500   \n",
      "CHEMISTRY            -0.000662  0.000324  0.000513 -0.000846 -0.000181   \n",
      "COMPSCI               0.000352 -0.000059 -0.000407  0.000070 -0.000288   \n",
      "ENGINEERING          -0.000467  0.001373 -0.001687 -0.001102  0.000489   \n",
      "LITERATURE           -0.001985  0.001046  0.000116  0.000823 -0.002222   \n",
      "MATH                 -0.000918  0.000665  0.000805  0.000843 -0.001931   \n",
      "NONE                  0.001148 -0.000696 -0.000925  0.000719  0.001177   \n",
      "PHYSICS              -0.001001 -0.001168  0.000910 -0.000234  0.000066   \n",
      "AUTO                 -0.166699 -0.166731 -0.166655 -0.166665 -0.166576   \n",
      "EDUCATION             1.000000 -0.166648 -0.166572 -0.166582 -0.166493   \n",
      "FINANCE              -0.166648  1.000000 -0.166604 -0.166614 -0.166525   \n",
      "HEALTH               -0.166572 -0.166604  1.000000 -0.166539 -0.166450   \n",
      "OIL                  -0.166582 -0.166614 -0.166539  1.000000 -0.166460   \n",
      "SERVICE              -0.166493 -0.166525 -0.166450 -0.166460  1.000000   \n",
      "WEB                  -0.166878 -0.166910 -0.166835 -0.166845 -0.166756   \n",
      "salary               -0.175158  0.154853 -0.003445  0.156966 -0.122370   \n",
      "\n",
      "                          WEB    salary  \n",
      "yearsExperience     -0.000233  0.375013  \n",
      "milesFromMetropolis -0.000935 -0.297686  \n",
      "CEO                  0.000329  0.285246  \n",
      "CFO                  0.001052  0.188803  \n",
      "CTO                 -0.000200  0.189608  \n",
      "JANITOR              0.000530 -0.441676  \n",
      "JUNIOR              -0.000037 -0.201987  \n",
      "MANAGER             -0.000905 -0.006778  \n",
      "SENIOR              -0.000737 -0.103650  \n",
      "VICE_PRESIDENT      -0.000028  0.090947  \n",
      "BACHELORS           -0.000337  0.111919  \n",
      "DOCTORAL            -0.000870  0.231406  \n",
      "HIGH_SCHOOL          0.001154 -0.203549  \n",
      "MASTERS              0.000891  0.171997  \n",
      "NONE                -0.000871 -0.257356  \n",
      "BIOLOGY             -0.001086  0.076339  \n",
      "BUSINESS            -0.001899  0.126123  \n",
      "CHEMISTRY            0.000409  0.084044  \n",
      "COMPSCI              0.000638  0.102986  \n",
      "ENGINEERING          0.000559  0.144203  \n",
      "LITERATURE           0.000682  0.053918  \n",
      "MATH                -0.000297  0.110413  \n",
      "NONE                 0.000177 -0.371435  \n",
      "PHYSICS              0.000613  0.092056  \n",
      "AUTO                -0.166961 -0.069904  \n",
      "EDUCATION           -0.166878 -0.175158  \n",
      "FINANCE             -0.166910  0.154853  \n",
      "HEALTH              -0.166835 -0.003445  \n",
      "OIL                 -0.166845  0.156966  \n",
      "SERVICE             -0.166756 -0.122370  \n",
      "WEB                  1.000000  0.058953  \n",
      "salary               0.058953  1.000000  \n",
      "\n",
      "[32 rows x 32 columns]\n"
     ]
    }
   ],
   "source": [
    "# Correlation Matrix for the entire training data after one hot encoding\n",
    "\n",
    "train_df_final_corr = train_df_final.corr()\n",
    "print(train_df_final_corr)"
   ]
  },
  {
   "cell_type": "markdown",
   "metadata": {},
   "source": [
    "### ---- 5 Establish a baseline ----"
   ]
  },
  {
   "cell_type": "code",
   "execution_count": 14,
   "metadata": {},
   "outputs": [
    {
     "name": "stdout",
     "output_type": "stream",
     "text": [
      "   industry  salary  salary_avg\n",
      "0         3     130  115.735540\n",
      "1         6     101  121.645362\n",
      "2         3     137  115.735540\n",
      "3         0     142  109.435222\n",
      "4         2     163  130.747659\n"
     ]
    }
   ],
   "source": [
    "#select a reasonable metric (MSE in this case)\n",
    "#create an extremely simple model and measure its efficacy\n",
    "#e.g. use \"average salary\" for each industry as your model and then measure MSE\n",
    "#during 5-fold cross-validation\n",
    "\n",
    "# Create a baseline  model with just industry , salary and salary_avg ( average salary for each industry ) and find MSE.\n",
    "# use 5 fold cross validation\n",
    "\n",
    "train_data_baseline = train_data[['industry','salary']]\n",
    "train_data_baseline = train_data_baseline.set_index(['industry'])\n",
    "\n",
    "mean_val = train_data_baseline.groupby('industry')['salary'].mean()\n",
    "\n",
    "train_data_baseline['salary_avg'] = mean_val\n",
    "train_data_baseline = train_data_baseline.reset_index()\n",
    "\n",
    "print(train_data_baseline.head())"
   ]
  },
  {
   "cell_type": "code",
   "execution_count": 15,
   "metadata": {},
   "outputs": [
    {
     "name": "stdout",
     "output_type": "stream",
     "text": [
      "KFold(n_splits=5, random_state=None, shuffle=False)\n",
      "\n",
      " Fold :  1 \n",
      "\n",
      "TRAIN: [199999 200000 200001 ... 999992 999993 999994] TEST: [     0      1      2 ... 199996 199997 199998]\n",
      "MSE 1369.1806222423513\n",
      "\n",
      " Fold :  2 \n",
      "\n",
      "TRAIN: [     0      1      2 ... 999992 999993 999994] TEST: [199999 200000 200001 ... 399995 399996 399997]\n",
      "MSE 1368.6023543911754\n",
      "\n",
      " Fold :  3 \n",
      "\n",
      "TRAIN: [     0      1      2 ... 999992 999993 999994] TEST: [399998 399999 400000 ... 599994 599995 599996]\n",
      "MSE 1371.3591525123234\n",
      "\n",
      " Fold :  4 \n",
      "\n",
      "TRAIN: [     0      1      2 ... 999992 999993 999994] TEST: [599997 599998 599999 ... 799993 799994 799995]\n",
      "MSE 1362.2162691114431\n",
      "\n",
      " Fold :  5 \n",
      "\n",
      "TRAIN: [     0      1      2 ... 799993 799994 799995] TEST: [799996 799997 799998 ... 999992 999993 999994]\n",
      "MSE 1364.2563556689843\n",
      "Average MSE 1367.1229507852554\n"
     ]
    }
   ],
   "source": [
    "# Cross validation with 5 folds initial baseline model \n",
    "\n",
    "# Baseline model just has 1 feature ( salary ) and mean squared error is calculated with salary and average salary by industry\n",
    "# This gives a very high MSE ( 1367 ) - average mse from 5 folds.\n",
    " \n",
    "from sklearn.model_selection import KFold\n",
    "from sklearn.metrics import mean_squared_error\n",
    "\n",
    "X = train_data_baseline['industry']\n",
    "y = train_data_baseline['salary']\n",
    "y_baseline = train_data_baseline['salary_avg']\n",
    "\n",
    "kf = KFold(n_splits=5) # Define the split - into 5 folds \n",
    "kf.get_n_splits(X) # returns the number of splitting iterations in the cross-validator\n",
    "print(kf) \n",
    "\n",
    "mean_squared_err = []\n",
    "k = 0 \n",
    "\n",
    "for train_index, test_index in kf.split(X):\n",
    "    k += 1\n",
    "    print('\\n Fold : ', k ,'\\n')\n",
    "    print(\"TRAIN:\", train_index, \"TEST:\", test_index)\n",
    "    \n",
    "    y_train, y_test = y[train_index], y[test_index]\n",
    "    y_base_train , y_base_test = y_baseline[train_index], y_baseline[test_index]\n",
    "    \n",
    "    error = mean_squared_error(y_test, y_base_test)\n",
    "    print('MSE', error)\n",
    "    mean_squared_err.append(error)\n",
    "    \n",
    "print('Average MSE', np.array(mean_squared_err).mean())"
   ]
  },
  {
   "cell_type": "markdown",
   "metadata": {},
   "source": [
    "### ---- 6 Hypothesize solution ----"
   ]
  },
  {
   "cell_type": "code",
   "execution_count": 16,
   "metadata": {},
   "outputs": [],
   "source": [
    "#brainstorm 3 models that you think may improve results over the baseline model based\n",
    "#on your "
   ]
  },
  {
   "cell_type": "markdown",
   "metadata": {},
   "source": [
    "1.) Add more features , use the one hot encoding features dataframe and do a linear regression with more features.\n",
    "\n",
    "2.) Use Polynomial Features.\n",
    "\n",
    "3.) Use Random Forest Model"
   ]
  },
  {
   "cell_type": "markdown",
   "metadata": {},
   "source": [
    "Brainstorm 3 models that you think may improve results over the baseline model based on your EDA and explain why they're reasonable solutions here.\n",
    "\n",
    "Also write down any new features that you think you should try adding to the model based on your EDA, e.g. interaction variables, summary statistics for each group, etc"
   ]
  },
  {
   "cell_type": "markdown",
   "metadata": {},
   "source": [
    "## Part 3 - DEVELOP"
   ]
  },
  {
   "cell_type": "markdown",
   "metadata": {},
   "source": [
    "You will cycle through creating features, tuning models, and training/validing models (steps 7-9) until you've reached your efficacy goal\n",
    "\n",
    "#### Your metric will be MSE and your goal is:\n",
    " - <360 for entry-level data science roles\n",
    " - <320 for senior data science roles"
   ]
  },
  {
   "cell_type": "markdown",
   "metadata": {},
   "source": [
    "### ---- 7 Engineer features  ----"
   ]
  },
  {
   "cell_type": "code",
   "execution_count": 17,
   "metadata": {},
   "outputs": [
    {
     "name": "stdout",
     "output_type": "stream",
     "text": [
      "   yearsExperience  milesFromMetropolis  CEO  CFO  CTO  JANITOR  JUNIOR  \\\n",
      "0               10                   83    0    1    0        0       0   \n",
      "1                3                   73    1    0    0        0       0   \n",
      "2               10                   38    0    0    0        0       0   \n",
      "3                8                   17    0    0    0        0       0   \n",
      "4                8                   16    0    0    0        0       0   \n",
      "\n",
      "   MANAGER  SENIOR  VICE_PRESIDENT   ...    NONE  PHYSICS  AUTO  EDUCATION  \\\n",
      "0        0       0               0   ...       0        0     0          0   \n",
      "1        0       0               0   ...       1        0     0          0   \n",
      "2        0       0               1   ...       0        1     0          0   \n",
      "3        1       0               0   ...       0        0     1          0   \n",
      "4        0       0               1   ...       0        1     0          0   \n",
      "\n",
      "   FINANCE  HEALTH  OIL  SERVICE  WEB  salary  \n",
      "0        0       1    0        0    0     130  \n",
      "1        0       0    0        0    1     101  \n",
      "2        0       1    0        0    0     137  \n",
      "3        0       0    0        0    0     142  \n",
      "4        1       0    0        0    0     163  \n",
      "\n",
      "[5 rows x 32 columns]\n",
      "<class 'pandas.core.frame.DataFrame'>\n",
      "<class 'pandas.core.frame.DataFrame'>\n"
     ]
    }
   ],
   "source": [
    "#make sure that data is ready for modeling\n",
    "#create any new features needed to potentially enhance model\n",
    "\n",
    "# Try model 1 ( linear regression with more features)\n",
    "\n",
    "\n",
    "#y = train_df_final['salary']\n",
    "X = train_df_final.drop(['salary'] , 1)\n",
    "y = train_df_final[['salary']]\n",
    "\n",
    "print(train_df_final.head())\n",
    "print(type(X))\n",
    "print(type(y))"
   ]
  },
  {
   "cell_type": "markdown",
   "metadata": {},
   "source": [
    "### ---- 8 Create models ----"
   ]
  },
  {
   "cell_type": "code",
   "execution_count": 18,
   "metadata": {},
   "outputs": [
    {
     "name": "stderr",
     "output_type": "stream",
     "text": [
      "/home/ksviswa/anaconda3/lib/python3.7/site-packages/sklearn/preprocessing/data.py:323: DataConversionWarning: Data with input dtype uint8, int64 were all converted to float64 by MinMaxScaler.\n",
      "  return self.partial_fit(X, y)\n"
     ]
    },
    {
     "name": "stdout",
     "output_type": "stream",
     "text": [
      "(999995, 31)\n",
      "(999995, 1)\n",
      "<class 'pandas.core.frame.DataFrame'>\n",
      "<class 'pandas.core.frame.DataFrame'>\n"
     ]
    }
   ],
   "source": [
    "#create and tune the models that you brainstormed during part 2\n",
    "\n",
    "# make sure the data is scaled and all the data falls in the same scale ,\n",
    "# so that the model doesnt treat some values differently , using minmax as the \n",
    "# value ranges from o to 1 and are not normally distributed.\n",
    "\n",
    "\n",
    "from sklearn.preprocessing import MinMaxScaler\n",
    "# data scaling\n",
    "\n",
    "scaler = MinMaxScaler()\n",
    "cols = X.columns\n",
    "\n",
    "X_scaled = scaler.fit_transform(X)\n",
    "X_scaled = pd.DataFrame(X_scaled, columns=cols)\n",
    "\n",
    "print(X_scaled.shape)\n",
    "print(y.shape)\n",
    "print(type(X_scaled))\n",
    "print(type(y))\n",
    "\n"
   ]
  },
  {
   "cell_type": "markdown",
   "metadata": {},
   "source": [
    "### ---- 9 Test models ----"
   ]
  },
  {
   "cell_type": "code",
   "execution_count": 19,
   "metadata": {},
   "outputs": [
    {
     "name": "stdout",
     "output_type": "stream",
     "text": [
      "KFold(n_splits=5, random_state=None, shuffle=False)\n",
      "\n",
      "Fold :  1 \n",
      "\n",
      "TRAIN: [199999 200000 200001 ... 999992 999993 999994] TEST: [     0      1      2 ... 199996 199997 199998]\n",
      "MSE 386.31407970282646\n",
      "\n",
      "Fold :  2 \n",
      "\n",
      "TRAIN: [     0      1      2 ... 999992 999993 999994] TEST: [199999 200000 200001 ... 399995 399996 399997]\n",
      "MSE 385.1992861373063\n",
      "\n",
      "Fold :  3 \n",
      "\n",
      "TRAIN: [     0      1      2 ... 999992 999993 999994] TEST: [399998 399999 400000 ... 599994 599995 599996]\n",
      "MSE 385.99800124776914\n",
      "\n",
      "Fold :  4 \n",
      "\n",
      "TRAIN: [     0      1      2 ... 999992 999993 999994] TEST: [599997 599998 599999 ... 799993 799994 799995]\n",
      "MSE 382.566323159222\n",
      "\n",
      "Fold :  5 \n",
      "\n",
      "TRAIN: [     0      1      2 ... 799993 799994 799995] TEST: [799996 799997 799998 ... 999992 999993 999994]\n",
      "MSE 382.01125422176796\n",
      "Average MSE 384.4177888937784\n"
     ]
    }
   ],
   "source": [
    "# do 5-fold cross validation on models and measure MSE\n",
    "# Linear Regression\n",
    "\n",
    "from sklearn.linear_model import LinearRegression\n",
    "from sklearn.model_selection import KFold\n",
    "from sklearn.metrics import mean_squared_error\n",
    "\n",
    "\n",
    "kf = KFold(n_splits=5) # Define the split - into 5 folds \n",
    "kf.get_n_splits(X_scaled) # returns the number of splitting iterations in the cross-validator\n",
    "print(kf) \n",
    "\n",
    "X_scaled = np.nan_to_num(X_scaled)\n",
    "y = np.nan_to_num(y)\n",
    "\n",
    "mse = []\n",
    "k =0\n",
    "for train_index, test_index in kf.split(X_scaled):\n",
    "    k += 1\n",
    "    print('\\nFold : ', k ,'\\n')\n",
    "    print(\"TRAIN:\", train_index, \"TEST:\", test_index)\n",
    "    X_train, X_test = X_scaled[train_index], X_scaled[test_index]\n",
    "    y_train, y_test = y[train_index], y[test_index]\n",
    "    model_linear_reg = LinearRegression().fit(X_train, y_train)\n",
    "    y_pred = model_linear_reg.predict(X_test)\n",
    "    error = mean_squared_error(y_test, y_pred)\n",
    "    print('MSE', error)\n",
    "    mse.append(error)\n",
    "    \n",
    "print('Average MSE', np.array(mse).mean())\n"
   ]
  },
  {
   "cell_type": "code",
   "execution_count": 20,
   "metadata": {},
   "outputs": [
    {
     "name": "stdout",
     "output_type": "stream",
     "text": [
      "KFold(n_splits=5, random_state=None, shuffle=False)\n",
      "\n",
      "Fold 1 \n",
      "\n",
      "TRAIN: [199999 200000 200001 ... 999992 999993 999994] TEST: [     0      1      2 ... 199996 199997 199998]\n",
      "MSE 355.85590647714133\n",
      "\n",
      "Fold 2 \n",
      "\n",
      "TRAIN: [     0      1      2 ... 999992 999993 999994] TEST: [199999 200000 200001 ... 399995 399996 399997]\n",
      "MSE 354.4757983348022\n",
      "\n",
      "Fold 3 \n",
      "\n",
      "TRAIN: [     0      1      2 ... 999992 999993 999994] TEST: [399998 399999 400000 ... 599994 599995 599996]\n",
      "MSE 355.022748606785\n",
      "\n",
      "Fold 4 \n",
      "\n",
      "TRAIN: [     0      1      2 ... 999992 999993 999994] TEST: [599997 599998 599999 ... 799993 799994 799995]\n",
      "MSE 352.6848722707969\n",
      "\n",
      "Fold 5 \n",
      "\n",
      "TRAIN: [     0      1      2 ... 799993 799994 799995] TEST: [799996 799997 799998 ... 999992 999993 999994]\n",
      "MSE 352.10550542216515\n",
      "Average MSE 354.0289662223381\n"
     ]
    }
   ],
   "source": [
    "# Polynomial Features with Linear Regression\n",
    "\n",
    "from sklearn.preprocessing import PolynomialFeatures\n",
    "\n",
    "\n",
    "kf = KFold(n_splits=5) # Define the split - into 5 folds \n",
    "kf.get_n_splits(X_scaled) # returns the number of splitting iterations in the cross-validator\n",
    "print(kf) \n",
    "\n",
    "mse = []\n",
    "k =0\n",
    "for train_index, test_index in kf.split(X_scaled):\n",
    "    k += 1\n",
    "    print('\\nFold', k ,'\\n')\n",
    "    print(\"TRAIN:\", train_index, \"TEST:\", test_index)\n",
    "    X_train, X_test = X_scaled[train_index], X_scaled[test_index]\n",
    "    y_train, y_test = y[train_index], y[test_index]\n",
    "    poly = PolynomialFeatures(2)\n",
    "    poly = PolynomialFeatures(interaction_only=True)\n",
    "    X_poly_train = poly.fit_transform(X_train)\n",
    "    X_poly_test = poly.fit_transform(X_test)\n",
    "    model_poly_lin_reg = LinearRegression()\n",
    "    model_poly_lin_reg = model_poly_lin_reg.fit(X_poly_train, y_train)\n",
    "    y_pred = model_poly_lin_reg.predict(X_poly_test)\n",
    "    error = mean_squared_error(y_test, y_pred)\n",
    "    print('MSE', error)\n",
    "    mse.append(error)\n",
    "    \n",
    "print('Average MSE', np.array(mse).mean())"
   ]
  },
  {
   "cell_type": "code",
   "execution_count": 21,
   "metadata": {},
   "outputs": [
    {
     "name": "stdout",
     "output_type": "stream",
     "text": [
      "KFold(n_splits=5, random_state=None, shuffle=False)\n",
      "\n",
      "Fold 1 \n",
      "\n",
      "TRAIN: [199999 200000 200001 ... 999992 999993 999994] TEST: [     0      1      2 ... 199996 199997 199998]\n"
     ]
    },
    {
     "name": "stderr",
     "output_type": "stream",
     "text": [
      "/home/ksviswa/anaconda3/lib/python3.7/site-packages/ipykernel_launcher.py:18: DataConversionWarning: A column-vector y was passed when a 1d array was expected. Please change the shape of y to (n_samples,), for example using ravel().\n"
     ]
    },
    {
     "name": "stdout",
     "output_type": "stream",
     "text": [
      "MSE 652.2717438760399\n",
      "\n",
      "Fold 2 \n",
      "\n",
      "TRAIN: [     0      1      2 ... 999992 999993 999994] TEST: [199999 200000 200001 ... 399995 399996 399997]\n"
     ]
    },
    {
     "name": "stderr",
     "output_type": "stream",
     "text": [
      "/home/ksviswa/anaconda3/lib/python3.7/site-packages/ipykernel_launcher.py:18: DataConversionWarning: A column-vector y was passed when a 1d array was expected. Please change the shape of y to (n_samples,), for example using ravel().\n"
     ]
    },
    {
     "name": "stdout",
     "output_type": "stream",
     "text": [
      "MSE 649.849621286751\n",
      "\n",
      "Fold 3 \n",
      "\n",
      "TRAIN: [     0      1      2 ... 999992 999993 999994] TEST: [399998 399999 400000 ... 599994 599995 599996]\n"
     ]
    },
    {
     "name": "stderr",
     "output_type": "stream",
     "text": [
      "/home/ksviswa/anaconda3/lib/python3.7/site-packages/ipykernel_launcher.py:18: DataConversionWarning: A column-vector y was passed when a 1d array was expected. Please change the shape of y to (n_samples,), for example using ravel().\n"
     ]
    },
    {
     "name": "stdout",
     "output_type": "stream",
     "text": [
      "MSE 647.1131025445846\n",
      "\n",
      "Fold 4 \n",
      "\n",
      "TRAIN: [     0      1      2 ... 999992 999993 999994] TEST: [599997 599998 599999 ... 799993 799994 799995]\n"
     ]
    },
    {
     "name": "stderr",
     "output_type": "stream",
     "text": [
      "/home/ksviswa/anaconda3/lib/python3.7/site-packages/ipykernel_launcher.py:18: DataConversionWarning: A column-vector y was passed when a 1d array was expected. Please change the shape of y to (n_samples,), for example using ravel().\n"
     ]
    },
    {
     "name": "stdout",
     "output_type": "stream",
     "text": [
      "MSE 639.3089110151662\n",
      "\n",
      "Fold 5 \n",
      "\n",
      "TRAIN: [     0      1      2 ... 799993 799994 799995] TEST: [799996 799997 799998 ... 999992 999993 999994]\n"
     ]
    },
    {
     "name": "stderr",
     "output_type": "stream",
     "text": [
      "/home/ksviswa/anaconda3/lib/python3.7/site-packages/ipykernel_launcher.py:18: DataConversionWarning: A column-vector y was passed when a 1d array was expected. Please change the shape of y to (n_samples,), for example using ravel().\n"
     ]
    },
    {
     "name": "stdout",
     "output_type": "stream",
     "text": [
      "MSE 638.943280159635\n",
      "Average MSE 645.4973317764354\n"
     ]
    }
   ],
   "source": [
    "# Random  Forest Regression\n",
    "\n",
    "from sklearn.ensemble import RandomForestRegressor\n",
    "\n",
    "\n",
    "kf = KFold(n_splits=5) # Define the split - into 5 folds \n",
    "kf.get_n_splits(X_scaled) # returns the number of splitting iterations in the cross-validator\n",
    "print(kf) \n",
    "\n",
    "mse = []\n",
    "k =0\n",
    "for train_index, test_index in kf.split(X_scaled):\n",
    "    k += 1\n",
    "    print('\\nFold', k ,'\\n')\n",
    "    print(\"TRAIN:\", train_index, \"TEST:\", test_index)\n",
    "    X_train, X_test = X_scaled[train_index], X_scaled[test_index]\n",
    "    y_train, y_test = y[train_index], y[test_index]\n",
    "    model_rfr = RandomForestRegressor(n_estimators = 250 , max_depth = 6 ).fit(X_train , y_train)\n",
    "    y_pred = model_rfr.predict(X_test)\n",
    "    error = mean_squared_error(y_test, y_pred)\n",
    "    print('MSE', error)\n",
    "    mse.append(error)\n",
    "    \n",
    "print('Average MSE', np.array(mse).mean())"
   ]
  },
  {
   "cell_type": "markdown",
   "metadata": {},
   "source": [
    "### ---- 10 Select best model  ----"
   ]
  },
  {
   "cell_type": "code",
   "execution_count": 22,
   "metadata": {},
   "outputs": [
    {
     "name": "stdout",
     "output_type": "stream",
     "text": [
      "LinearRegression(copy_X=True, fit_intercept=True, n_jobs=None,\n",
      "         normalize=False)\n"
     ]
    }
   ],
   "source": [
    "#select the model with the lowest error as your \"prodcuction\" model\n",
    "\n",
    "# Looks like the best model among the 3 models is using polynomial features in linear regression with degree 2\n",
    "\n",
    "print(model_poly_lin_reg)"
   ]
  },
  {
   "cell_type": "markdown",
   "metadata": {},
   "source": [
    "## Part 4 - DEPLOY"
   ]
  },
  {
   "cell_type": "markdown",
   "metadata": {},
   "source": [
    "### ---- 11 Automate pipeline ----"
   ]
  },
  {
   "cell_type": "code",
   "execution_count": 23,
   "metadata": {},
   "outputs": [
    {
     "name": "stdout",
     "output_type": "stream",
     "text": [
      "   yearsExperience  milesFromMetropolis  CEO  CFO  CTO  JANITOR  JUNIOR  \\\n",
      "0         0.416667             0.838384  0.0  1.0  0.0      0.0     0.0   \n",
      "1         0.125000             0.737374  1.0  0.0  0.0      0.0     0.0   \n",
      "2         0.416667             0.383838  0.0  0.0  0.0      0.0     0.0   \n",
      "3         0.333333             0.171717  0.0  0.0  0.0      0.0     0.0   \n",
      "4         0.333333             0.161616  0.0  0.0  0.0      0.0     0.0   \n",
      "\n",
      "   MANAGER  SENIOR  VICE_PRESIDENT ...   MATH  NONE  PHYSICS  AUTO  EDUCATION  \\\n",
      "0      0.0     0.0             0.0 ...    1.0   0.0      0.0   0.0        0.0   \n",
      "1      0.0     0.0             0.0 ...    0.0   1.0      0.0   0.0        0.0   \n",
      "2      0.0     0.0             1.0 ...    0.0   0.0      1.0   0.0        0.0   \n",
      "3      1.0     0.0             0.0 ...    0.0   0.0      0.0   1.0        0.0   \n",
      "4      0.0     0.0             1.0 ...    0.0   0.0      1.0   0.0        0.0   \n",
      "\n",
      "   FINANCE  HEALTH  OIL  SERVICE  WEB  \n",
      "0      0.0     1.0  0.0      0.0  0.0  \n",
      "1      0.0     0.0  0.0      0.0  1.0  \n",
      "2      0.0     1.0  0.0      0.0  0.0  \n",
      "3      0.0     0.0  0.0      0.0  0.0  \n",
      "4      1.0     0.0  0.0      0.0  0.0  \n",
      "\n",
      "[5 rows x 31 columns]\n",
      "(999995, 31)\n",
      "<class 'pandas.core.frame.DataFrame'>\n",
      "   salary\n",
      "0     130\n",
      "1     101\n",
      "2     137\n",
      "3     142\n",
      "4     163\n",
      "(999995, 1)\n",
      "<class 'pandas.core.frame.DataFrame'>\n"
     ]
    }
   ],
   "source": [
    "#write script that trains model on entire training set, saves model to disk,\n",
    "#and scores the \"test\" dataset\n",
    "\n",
    "# Create pipeline so that we can do an end to end process\n",
    "# read the data , clean the data , feature engineering \n",
    "# scaling and normalizing , build model \n",
    "# save the model to disk\n",
    "# load the model to run on the test dataset and predict / calculate the scores accordingly.\n",
    "\n",
    "X_train = pd.DataFrame(X_scaled , columns = X.columns)\n",
    "y_train = pd.DataFrame(y , columns = ['salary'])\n",
    "\n",
    "\n",
    "print(X_train.head())\n",
    "print(X_train.shape)\n",
    "print(type(X_train))\n",
    "\n",
    "\n",
    "print(y_train.head())\n",
    "print(y_train.shape)\n",
    "print(type(y_train))\n"
   ]
  },
  {
   "cell_type": "code",
   "execution_count": 24,
   "metadata": {},
   "outputs": [
    {
     "data": {
      "text/plain": [
       "['model.pkl']"
      ]
     },
     "execution_count": 24,
     "metadata": {},
     "output_type": "execute_result"
    }
   ],
   "source": [
    "# Use the entire data to train the model\n",
    "\n",
    "poly_all = PolynomialFeatures(2)\n",
    "poly_all = PolynomialFeatures(interaction_only=True)\n",
    "X_poly_train_all = poly.fit_transform(X_train)\n",
    "\n",
    "model_poly_lin_reg_all = LinearRegression()\n",
    "model_poly_lin_reg_all = model_poly_lin_reg_all.fit(X_poly_train_all, y_train)\n",
    "\n",
    "\n",
    "# Save the model \n",
    "from sklearn.externals import joblib\n",
    "joblib.dump(model_poly_lin_reg_all , 'model.pkl')"
   ]
  },
  {
   "cell_type": "markdown",
   "metadata": {},
   "source": [
    "### ---- 12 Deploy solution ----"
   ]
  },
  {
   "cell_type": "code",
   "execution_count": 40,
   "metadata": {},
   "outputs": [
    {
     "name": "stderr",
     "output_type": "stream",
     "text": [
      "/home/ksviswa/anaconda3/lib/python3.7/site-packages/sklearn/preprocessing/data.py:323: DataConversionWarning: Data with input dtype uint8, int64 were all converted to float64 by MinMaxScaler.\n",
      "  return self.partial_fit(X, y)\n"
     ]
    },
    {
     "name": "stdout",
     "output_type": "stream",
     "text": [
      "   yearsExperience  milesFromMetropolis  CEO  CFO  CTO  JANITOR  JUNIOR  \\\n",
      "0         0.916667             0.737374  0.0  0.0  0.0      0.0     0.0   \n",
      "1         0.833333             0.474747  0.0  0.0  0.0      0.0     1.0   \n",
      "2         0.708333             0.090909  0.0  0.0  1.0      0.0     0.0   \n",
      "3         0.583333             0.969697  0.0  0.0  0.0      0.0     0.0   \n",
      "4         0.416667             0.444444  0.0  0.0  0.0      0.0     1.0   \n",
      "\n",
      "   MANAGER  SENIOR  VICE_PRESIDENT ...   MATH  NONE  PHYSICS  AUTO  EDUCATION  \\\n",
      "0      1.0     0.0             0.0 ...    0.0   1.0      0.0   0.0        0.0   \n",
      "1      0.0     0.0             0.0 ...    0.0   1.0      0.0   1.0        0.0   \n",
      "2      0.0     0.0             0.0 ...    0.0   0.0      0.0   0.0        0.0   \n",
      "3      1.0     0.0             0.0 ...    0.0   1.0      0.0   0.0        0.0   \n",
      "4      0.0     0.0             0.0 ...    0.0   0.0      0.0   0.0        0.0   \n",
      "\n",
      "   FINANCE  HEALTH  OIL  SERVICE  WEB  \n",
      "0      0.0     1.0  0.0      0.0  0.0  \n",
      "1      0.0     0.0  0.0      0.0  0.0  \n",
      "2      0.0     1.0  0.0      0.0  0.0  \n",
      "3      0.0     0.0  1.0      0.0  0.0  \n",
      "4      0.0     0.0  1.0      0.0  0.0  \n",
      "\n",
      "[5 rows x 31 columns]\n",
      "(1000000, 31)\n",
      "<class 'pandas.core.frame.DataFrame'>\n",
      "       salary\n",
      "0  111.136719\n",
      "1   92.812500\n",
      "2  182.988281\n",
      "3  103.816406\n",
      "4  115.976562\n",
      "              jobId companyId  jobType       degree    major industry  \\\n",
      "0  JOB1362685407687    COMP33  MANAGER  HIGH_SCHOOL     NONE   HEALTH   \n",
      "1  JOB1362685407688    COMP13   JUNIOR         NONE     NONE     AUTO   \n",
      "2  JOB1362685407689    COMP10      CTO      MASTERS  BIOLOGY   HEALTH   \n",
      "3  JOB1362685407690    COMP21  MANAGER  HIGH_SCHOOL     NONE      OIL   \n",
      "4  JOB1362685407691    COMP36   JUNIOR     DOCTORAL  BIOLOGY      OIL   \n",
      "\n",
      "   yearsExperience  milesFromMetropolis      salary  \n",
      "0               22                   73  111.136719  \n",
      "1               20                   47   92.812500  \n",
      "2               17                    9  182.988281  \n",
      "3               14                   96  103.816406  \n",
      "4               10                   44  115.976562  \n",
      "(1000000, 9)\n"
     ]
    }
   ],
   "source": [
    "#save your prediction to a csv file or optionally save them as a table in a SQL database\n",
    "#additionally, you want to save a visualization and summary of your prediction and feature importances\n",
    "#these visualizations and summaries will be extremely useful to business stakeholders\n",
    "\n",
    "# Load Model \n",
    "\n",
    "model_load = joblib.load('model.pkl')\n",
    "\n",
    "# Feature Eng and Clean the Test Data\n",
    "\n",
    "# The test data should have same features as the train data features was modelled upon.\n",
    "\n",
    "test_jobtype = pd.get_dummies(test_features_data['jobType'])\n",
    "test_degree = pd.get_dummies(test_features_data['degree'])\n",
    "test_major = pd.get_dummies(test_features_data['major'])\n",
    "test_industry = pd.get_dummies(test_features_data['industry'])\n",
    "\n",
    "\n",
    "test_df = test_features_data.drop(columns = ['jobId' , 'companyId' , 'jobType' , 'degree' , 'major' , 'industry'])\n",
    "\n",
    "test_df_final = pd.concat([test_df[['yearsExperience','milesFromMetropolis']] , test_jobtype , test_degree , test_major , test_industry] , axis=1)\n",
    "#print(test_df_final.head())\n",
    "\n",
    "                           \n",
    "# Scale the test data\n",
    "test_cols = test_df_final.columns\n",
    "\n",
    "X_test_scaled = scaler.fit_transform(test_df_final)\n",
    "X_test_scaled = pd.DataFrame(X_test_scaled, columns=test_cols)\n",
    "\n",
    "#X_test_scaled = np.nan_to_num(X_test_scaled)\n",
    "print(X_test_scaled.head())\n",
    "print(X_test_scaled.shape)\n",
    "print(type(X_test_scaled))\n",
    "\n",
    "X_poly_test_all = poly.fit_transform(X_test_scaled)\n",
    "final_res = model_load.predict(X_poly_test_all)\n",
    "\n",
    "final_res_df = pd.DataFrame(final_res , columns = ['salary'])\n",
    "print(final_res_df.head())\n",
    "\n",
    "test_data = pd.concat([test_features_data , final_res_df],axis=1)\n",
    "print(test_data.head())\n",
    "print(test_data.shape)\n",
    "\n",
    "test_data.to_csv('test_features_predicted.csv',index=False)\n",
    "                           \n",
    "                           "
   ]
  },
  {
   "cell_type": "markdown",
   "metadata": {},
   "source": [
    "### ---- 13 Measure efficacy ----"
   ]
  },
  {
   "cell_type": "markdown",
   "metadata": {},
   "source": [
    "We'll skip this step since we don't have the outcomes for the test data"
   ]
  },
  {
   "cell_type": "code",
   "execution_count": null,
   "metadata": {},
   "outputs": [],
   "source": []
  },
  {
   "cell_type": "code",
   "execution_count": null,
   "metadata": {},
   "outputs": [],
   "source": []
  },
  {
   "cell_type": "code",
   "execution_count": null,
   "metadata": {},
   "outputs": [],
   "source": []
  },
  {
   "cell_type": "code",
   "execution_count": null,
   "metadata": {},
   "outputs": [],
   "source": []
  }
 ],
 "metadata": {
  "kernelspec": {
   "display_name": "Python 3",
   "language": "python",
   "name": "python3"
  },
  "language_info": {
   "codemirror_mode": {
    "name": "ipython",
    "version": 3
   },
   "file_extension": ".py",
   "mimetype": "text/x-python",
   "name": "python",
   "nbconvert_exporter": "python",
   "pygments_lexer": "ipython3",
   "version": "3.7.1"
  }
 },
 "nbformat": 4,
 "nbformat_minor": 2
}
